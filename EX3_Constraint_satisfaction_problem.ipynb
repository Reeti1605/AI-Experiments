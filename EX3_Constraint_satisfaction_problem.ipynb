{
  "nbformat": 4,
  "nbformat_minor": 0,
  "metadata": {
    "colab": {
      "name": "EX3 Constraint satisfaction problem.ipynb",
      "provenance": [],
      "authorship_tag": "ABX9TyMy/E9kAQqw07JJddTJnAmi",
      "include_colab_link": true
    },
    "kernelspec": {
      "name": "python3",
      "display_name": "Python 3"
    },
    "language_info": {
      "name": "python"
    }
  },
  "cells": [
    {
      "cell_type": "markdown",
      "metadata": {
        "id": "view-in-github",
        "colab_type": "text"
      },
      "source": [
        "<a href=\"https://colab.research.google.com/github/Reeti1605/AI-Experiments/blob/main/EX3_Constraint_satisfaction_problem.ipynb\" target=\"_parent\"><img src=\"https://colab.research.google.com/assets/colab-badge.svg\" alt=\"Open In Colab\"/></a>"
      ]
    },
    {
      "cell_type": "code",
      "execution_count": null,
      "metadata": {
        "colab": {
          "base_uri": "https://localhost:8080/"
        },
        "id": "M1AfcvKyaOy2",
        "outputId": "6453a723-0b0b-4dd1-d0a7-9541614de402"
      },
      "outputs": [
        {
          "output_type": "stream",
          "name": "stdout",
          "text": [
            "EAT + THAT = APPLE \n",
            "71582 + 9061 = 80643 (mapping: {'t': 2, 'i': 5, 'r': 6, 'y': 3, 'e': 0, 'z': 9, 'o': 1, 'n': 8, 'p': 7, 'g': 4})\n",
            "51762 + 9081 = 60843 (mapping: {'t': 2, 'i': 7, 'r': 8, 'y': 3, 'e': 0, 'z': 9, 'o': 1, 'n': 6, 'p': 5, 'g': 4})\n",
            "98504 + 3168 = 101672 (mapping: {'t': 4, 'i': 5, 'r': 6, 'y': 2, 'e': 1, 'z': 3, 'o': 8, 'n': 0, 'p': 9, 'g': 7})\n",
            "74285 + 6034 = 80319 (mapping: {'t': 5, 'i': 2, 'r': 3, 'y': 9, 'e': 0, 'z': 6, 'o': 4, 'n': 8, 'p': 7, 'g': 1})\n",
            "71385 + 9041 = 80426 (mapping: {'t': 5, 'i': 3, 'r': 4, 'y': 6, 'e': 0, 'z': 9, 'o': 1, 'n': 8, 'p': 7, 'g': 2})\n",
            "31745 + 9081 = 40826 (mapping: {'t': 5, 'i': 7, 'r': 8, 'y': 6, 'e': 0, 'z': 9, 'o': 1, 'n': 4, 'p': 3, 'g': 2})\n",
            "24735 + 6084 = 30819 (mapping: {'t': 5, 'i': 7, 'r': 8, 'y': 9, 'e': 0, 'z': 6, 'o': 4, 'n': 3, 'p': 2, 'g': 1})\n",
            "58369 + 2048 = 60417 (mapping: {'t': 9, 'i': 3, 'r': 4, 'y': 7, 'e': 0, 'z': 2, 'o': 8, 'n': 6, 'p': 5, 'g': 1})\n",
            "62479 + 8052 = 70531 (mapping: {'t': 9, 'i': 4, 'r': 5, 'y': 1, 'e': 0, 'z': 8, 'o': 2, 'n': 7, 'p': 6, 'g': 3})\n",
            "38549 + 2068 = 40617 (mapping: {'t': 9, 'i': 5, 'r': 6, 'y': 7, 'e': 0, 'z': 2, 'o': 8, 'n': 4, 'p': 3, 'g': 1})\n",
            "42659 + 8072 = 50731 (mapping: {'t': 9, 'i': 6, 'r': 7, 'y': 1, 'e': 0, 'z': 8, 'o': 2, 'n': 5, 'p': 4, 'g': 3})\n"
          ]
        }
      ],
      "source": [
        "import itertools\n",
        "\n",
        "def get_value(word, substitution):\n",
        "    s = 0\n",
        "    factor = 1\n",
        "    for letter in reversed(word):\n",
        "        s += factor * substitution[letter]\n",
        "        factor *= 10\n",
        "    return s\n",
        "\n",
        "def solve2(equation):\n",
        "    left, right = equation.lower().replace(' ', '').split('=')\n",
        "    left = left.split('+')\n",
        "    letters = set(right)\n",
        "    for word in left:\n",
        "        for letter in word:\n",
        "            letters.add(letter)\n",
        "    letters = list(letters)\n",
        "\n",
        "    digits = range(10)\n",
        "    for perm in itertools.permutations(digits, len(letters)):\n",
        "        sol = dict(zip(letters, perm))\n",
        "\n",
        "        if sum(get_value(word, sol) for word in left) == get_value(right, sol):\n",
        "            print(' + '.join(str(get_value(word, sol)) for word in left) + \" = {} (mapping: {})\".format(get_value(right, sol), sol))\n",
        "print('EAT + THAT = APPLE ')\n",
        "solve2('POINT + ZERO = ENERGY ')"
      ]
    },
    {
      "cell_type": "code",
      "source": [
        ""
      ],
      "metadata": {
        "id": "FpQKfh9LaSSk"
      },
      "execution_count": null,
      "outputs": []
    }
  ]
}